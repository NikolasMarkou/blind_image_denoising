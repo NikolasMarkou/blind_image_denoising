{
 "cells": [
  {
   "cell_type": "code",
   "execution_count": 1,
   "metadata": {},
   "outputs": [],
   "source": [
    "import os\n",
    "import sys\n",
    "import pathlib\n",
    "import numpy as np\n",
    "import pandas as pd\n",
    "import tensorflow as tf\n",
    "import matplotlib.pyplot as plt\n",
    "from IPython.display import display\n",
    "from typing import Tuple\n",
    "\n",
    "sys.path.append(os.getcwd() + \"/../\")"
   ]
  },
  {
   "cell_type": "code",
   "execution_count": 2,
   "outputs": [],
   "source": [
    "import bfcnn\n",
    "from bfcnn.utilities import load_image"
   ],
   "metadata": {
    "collapsed": false,
    "pycharm": {
     "name": "#%% local imports\n"
    }
   }
  },
  {
   "cell_type": "code",
   "execution_count": 3,
   "metadata": {},
   "outputs": [],
   "source": [
    "# setup environment\n",
    "os.environ[\"TF_CPP_MIN_LOG_LEVEL\"] = \"3\"\n",
    "tf.compat.v1.enable_eager_execution()\n",
    "tf.compat.v1.logging.set_verbosity(tf.compat.v1.logging.ERROR)"
   ]
  },
  {
   "cell_type": "code",
   "execution_count": 4,
   "metadata": {
    "pycharm": {
     "name": "#%% build model\n"
    }
   },
   "outputs": [
    {
     "name": "stderr",
     "output_type": "stream",
     "text": [
      "2022-11-22 16:47:05,246 INFO model_denoiser.py:model_builder:58] building model with config [{'filters': 32, 'no_layers': 6, 'kernel_size': 7, 'block_kernels': [3, 3], 'block_filters': [32, 32], 'value_range': [0, 255], 'type': 'resnet', 'batchnorm': True, 'activation': 'relu', 'final_activation': 'tanh', 'input_shape': ['?', '?', 3], 'kernel_initializer': 'glorot_normal', 'kernel_regularizer': 'l1'}]\n",
      "2022-11-22 16:47:05,297 INFO model_denoiser.py:model_builder:239] pyramid produces [1] scales\n",
      "2022-11-22 16:47:05,298 INFO model_denoiser.py:model_builder:250] building per scale model\n",
      "2022-11-22 16:47:05,298 INFO backbone_resnet.py:builder:87] building resnet backbone\n",
      "2022-11-22 16:47:05,298 INFO backbone_resnet.py:builder:88] parameters not used: {'add_var': False, 'no_levels': 1, 'add_laplacian': True}\n"
     ]
    }
   ],
   "source": [
    "config = bfcnn.CONFIGS_DICT[\"resnet_color_1x6_bn_32x32_3x3_128x128_l1_relu\"]\n",
    "\n",
    "models = bfcnn.model_builder(config=config[\"model_denoise\"])\n",
    "\n",
    "denoiser_model = models.denoiser"
   ]
  },
  {
   "cell_type": "code",
   "execution_count": 5,
   "outputs": [],
   "source": [
    "# base directory for test images\n",
    "IMAGES_TEST_DIR = \\\n",
    "    pathlib.Path(os.path.abspath(\"\")).parent.resolve() / \"images\" / \"test\"\n",
    "\n",
    "# directory of kitti test images\n",
    "KITTI_DIR = \\\n",
    "    IMAGES_TEST_DIR / \"kitti\"\n",
    "\n",
    "# all the kitti test images\n",
    "KITTI_IMAGES = \\\n",
    "    [img for img in (KITTI_DIR / \"files\").glob(\"*.png\")]\n",
    "\n",
    "RESOLUTION = (64, 64)\n"
   ],
   "metadata": {
    "collapsed": false,
    "pycharm": {
     "name": "#%% load data\n"
    }
   }
  },
  {
   "cell_type": "code",
   "execution_count": null,
   "metadata": {
    "pycharm": {
     "name": "#%% jacobian\n",
     "is_executing": true
    },
    "scrolled": false
   },
   "outputs": [],
   "source": [
    "img_path_iterator = iter(KITTI_IMAGES)\n",
    "img_path = next(img_path_iterator)\n",
    "\n",
    "# prepare image\n",
    "img = load_image(img_path=img_path, target_size=RESOLUTION)\n",
    "\n",
    "with tf.GradientTape() as g:\n",
    "    x = img\n",
    "    g.watch(x)\n",
    "    y = denoiser_model(x)\n",
    "\n",
    "j = g.jacobian(y, x)\n",
    "\n",
    "print(j.shape)"
   ]
  }
 ],
 "metadata": {
  "kernelspec": {
   "display_name": "Python 3",
   "language": "python",
   "name": "python3"
  },
  "language_info": {
   "codemirror_mode": {
    "name": "ipython",
    "version": 3
   },
   "file_extension": ".py",
   "mimetype": "text/x-python",
   "name": "python",
   "nbconvert_exporter": "python",
   "pygments_lexer": "ipython3",
   "version": "3.8.10"
  }
 },
 "nbformat": 4,
 "nbformat_minor": 1
}