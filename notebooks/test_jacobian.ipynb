{
 "cells": [
  {
   "cell_type": "code",
   "execution_count": null,
   "metadata": {},
   "outputs": [],
   "source": [
    "import os\n",
    "import sys\n",
    "import pathlib\n",
    "import numpy as np\n",
    "import pandas as pd\n",
    "import tensorflow as tf\n",
    "import matplotlib.pyplot as plt\n",
    "from IPython.display import display\n",
    "\n",
    "sys.path.append(os.getcwd() + \"/../\")\n",
    "\n",
    "import bfcnn"
   ]
  },
  {
   "cell_type": "code",
   "execution_count": null,
   "metadata": {},
   "outputs": [],
   "source": [
    "# setup environment\n",
    "os.environ[\"TF_CPP_MIN_LOG_LEVEL\"] = \"3\"\n",
    "tf.compat.v1.enable_eager_execution()\n",
    "tf.compat.v1.logging.set_verbosity(tf.compat.v1.logging.ERROR)"
   ]
  },
  {
   "cell_type": "code",
   "execution_count": null,
   "metadata": {
    "pycharm": {
     "name": "#%% build model\n"
    }
   },
   "outputs": [],
   "source": [
    "config = bfcnn.CONFIGS_DICT[\"resnet_color_1x6_bn_32x32_3x3_256x256_l1_relu\"]\n",
    "\n",
    "models = bfcnn.model_builder(config=config[\"model_denoise\"])\n",
    "\n",
    "denoiser_model = models.denoiser"
   ]
  },
  {
   "cell_type": "code",
   "execution_count": null,
   "metadata": {
    "pycharm": {
     "name": "#%% jacobian\n"
    },
    "scrolled": false
   },
   "outputs": [],
   "source": [
    "with tf.GradientTape() as g:\n",
    "    x = \\\n",
    "        tf.random.truncated_normal(\n",
    "            seed=0,\n",
    "            mean=0.0,\n",
    "            stddev=0.25,\n",
    "            shape=(1, 16, 24, 3))\n",
    "    x = tf.clip_by_value(x, clip_value_min=-0.5, clip_value_max=0.5)\n",
    "    g.watch(x)\n",
    "    y = denoiser_model(x)\n",
    "\n",
    "jacobian = g.jacobian(y, x)\n",
    "\n",
    "print(jacobian)"
   ]
  }
 ],
 "metadata": {
  "kernelspec": {
   "display_name": "Python 3",
   "language": "python",
   "name": "python3"
  },
  "language_info": {
   "codemirror_mode": {
    "name": "ipython",
    "version": 3
   },
   "file_extension": ".py",
   "mimetype": "text/x-python",
   "name": "python",
   "nbconvert_exporter": "python",
   "pygments_lexer": "ipython3",
   "version": "3.8.10"
  }
 },
 "nbformat": 4,
 "nbformat_minor": 1
}
