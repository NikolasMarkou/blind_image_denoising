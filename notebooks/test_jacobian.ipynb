{
 "cells": [
  {
   "cell_type": "code",
   "execution_count": 1,
   "metadata": {},
   "source": [
    "import os\n",
    "import sys\n",
    "import pathlib\n",
    "import numpy as np\n",
    "import pandas as pd\n",
    "import tensorflow as tf\n",
    "import matplotlib.pyplot as plt\n",
    "from IPython.display import display\n",
    "from typing import Tuple\n",
    "\n",
    "sys.path.append(os.getcwd() + \"/../\")"
   ],
   "outputs": []
  },
  {
   "cell_type": "code",
   "execution_count": 2,
   "source": [
    "import bfcnn\n",
    "from bfcnn.utilities import load_image"
   ],
   "metadata": {
    "collapsed": false,
    "pycharm": {
     "name": "#%% local imports\n"
    }
   },
   "outputs": []
  },
  {
   "cell_type": "code",
   "execution_count": 3,
   "metadata": {},
   "source": [
    "# setup environment\n",
    "os.environ[\"TF_CPP_MIN_LOG_LEVEL\"] = \"3\"\n",
    "tf.compat.v1.enable_eager_execution()\n",
    "tf.compat.v1.logging.set_verbosity(tf.compat.v1.logging.ERROR)"
   ],
   "outputs": []
  },
  {
   "cell_type": "code",
   "execution_count": 4,
   "metadata": {
    "pycharm": {
     "name": "#%% build model\n"
    }
   },
   "source": [
    "config = bfcnn.CONFIGS_DICT[\"resnet_color_1x6_bn_32x32_3x3_128x128_l1_relu\"]\n",
    "\n",
    "models = bfcnn.model_builder(config=config[\"model_denoise\"])\n",
    "\n",
    "denoiser_model = models.denoiser"
   ],
   "outputs": []
  },
  {
   "cell_type": "code",
   "execution_count": 5,
   "source": [
    "# base directory for test images\n",
    "IMAGES_TEST_DIR = \\\n",
    "    pathlib.Path(os.path.abspath(\"\")).parent.resolve() / \"images\" / \"test\"\n",
    "\n",
    "# directory of kitti test images\n",
    "KITTI_DIR = \\\n",
    "    IMAGES_TEST_DIR / \"kitti\"\n",
    "\n",
    "# all the kitti test images\n",
    "KITTI_IMAGES = \\\n",
    "    [img for img in (KITTI_DIR / \"files\").glob(\"*.png\")]\n",
    "\n",
    "RESOLUTION = (64, 64)\n"
   ],
   "metadata": {
    "collapsed": false,
    "pycharm": {
     "name": "#%% load data\n"
    }
   },
   "outputs": []
  },
  {
   "cell_type": "code",
   "execution_count": null,
   "metadata": {
    "pycharm": {
     "name": "#%% jacobian\n",
     "is_executing": true
    },
    "scrolled": false
   },
   "source": [
    "img_path_iterator = iter(KITTI_IMAGES)\n",
    "img_path = next(img_path_iterator)\n",
    "\n",
    "# prepare image\n",
    "img = load_image(img_path=img_path, target_size=RESOLUTION)\n",
    "\n",
    "with tf.GradientTape() as g:\n",
    "    x = img\n",
    "    g.watch(x)\n",
    "    y = denoiser_model(x)\n",
    "\n",
    "j = g.jacobian(y, x)\n",
    "\n",
    "print(j.shape)"
   ],
   "outputs": []
  }
 ],
 "metadata": {
  "kernelspec": {
   "display_name": "Python 3",
   "language": "python",
   "name": "python3"
  },
  "language_info": {
   "codemirror_mode": {
    "name": "ipython",
    "version": 3
   },
   "file_extension": ".py",
   "mimetype": "text/x-python",
   "name": "python",
   "nbconvert_exporter": "python",
   "pygments_lexer": "ipython3",
   "version": "3.8.10"
  }
 },
 "nbformat": 4,
 "nbformat_minor": 1
}
