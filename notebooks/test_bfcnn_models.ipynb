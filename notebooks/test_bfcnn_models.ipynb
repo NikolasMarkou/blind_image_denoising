{
 "cells": [
  {
   "cell_type": "code",
   "execution_count": null,
   "metadata": {},
   "outputs": [],
   "source": [
    "import os\n",
    "import sys\n",
    "import keras\n",
    "import numpy as np\n",
    "import tensorflow as tf\n",
    "from keras import datasets\n",
    "import matplotlib\n",
    "import matplotlib.pyplot as plt\n",
    "\n",
    "sys.path.append(os.getcwd() + \"/../\")\n",
    "\n",
    "import bfcnn"
   ]
  },
  {
   "cell_type": "markdown",
   "metadata": {},
   "source": [
    "# List available models"
   ]
  },
  {
   "cell_type": "code",
   "execution_count": null,
   "metadata": {},
   "outputs": [],
   "source": [
    "print(list(bfcnn.pretrained_models.keys()))"
   ]
  },
  {
   "cell_type": "markdown",
   "metadata": {},
   "source": [
    "# Create noise patch"
   ]
  },
  {
   "cell_type": "code",
   "execution_count": null,
   "metadata": {},
   "outputs": [],
   "source": [
    "RANDOM_BATCH_SIZE = (4, 256, 256, 1)\n",
    "\n",
    "x = \\\n",
    "    tf.random.truncated_normal(\n",
    "        seed=0,\n",
    "        mean=128,\n",
    "        stddev=10,\n",
    "        shape=RANDOM_BATCH_SIZE)\n",
    "\n",
    "x = \\\n",
    "    tf.clip_by_value(\n",
    "        x, \n",
    "        clip_value_min=0, \n",
    "        clip_value_max=255)\n",
    "x = x.numpy()"
   ]
  },
  {
   "cell_type": "markdown",
   "metadata": {},
   "source": [
    "# Plot patch"
   ]
  },
  {
   "cell_type": "code",
   "execution_count": null,
   "metadata": {},
   "outputs": [],
   "source": [
    "fig = plt.figure(figsize=(8,8))\n",
    "plt.imshow(x[0,:,:,0], cmap=\"gray_r\") "
   ]
  },
  {
   "cell_type": "markdown",
   "metadata": {},
   "source": [
    "# Load model"
   ]
  },
  {
   "cell_type": "code",
   "execution_count": null,
   "metadata": {},
   "outputs": [],
   "source": [
    "model = bfcnn.load_model(\"sparse_resnet_5x5_bn_3x3\")\n",
    "x_denoise = x\n",
    "for i in range(3):\n",
    "    x_denoise = model(x_denoise)"
   ]
  },
  {
   "cell_type": "markdown",
   "metadata": {},
   "source": [
    "# Plot noisy patch"
   ]
  },
  {
   "cell_type": "code",
   "execution_count": null,
   "metadata": {},
   "outputs": [],
   "source": [
    "fig = plt.figure(figsize=(16,8))\n",
    "for i in range(RANDOM_BATCH_SIZE[0]):\n",
    "    plt.subplot(1, RANDOM_BATCH_SIZE[0], i+1)\n",
    "    plt.imshow(x[i,:,:,0], cmap=\"gray_r\") \n",
    "plt.show()"
   ]
  },
  {
   "cell_type": "markdown",
   "metadata": {},
   "source": [
    "# Plot denoised patch"
   ]
  },
  {
   "cell_type": "code",
   "execution_count": null,
   "metadata": {
    "scrolled": true
   },
   "outputs": [],
   "source": [
    "fig = plt.figure(figsize=(16,8))\n",
    "for i in range(RANDOM_BATCH_SIZE[0]):\n",
    "    plt.subplot(1, RANDOM_BATCH_SIZE[0], i+1)\n",
    "    plt.imshow(x_denoise[i,:,:,0], cmap=\"gray_r\") \n",
    "plt.show()"
   ]
  },
  {
   "cell_type": "code",
   "execution_count": null,
   "metadata": {},
   "outputs": [],
   "source": []
  }
 ],
 "metadata": {
  "kernelspec": {
   "display_name": "Python 3",
   "language": "python",
   "name": "python3"
  },
  "language_info": {
   "codemirror_mode": {
    "name": "ipython",
    "version": 3
   },
   "file_extension": ".py",
   "mimetype": "text/x-python",
   "name": "python",
   "nbconvert_exporter": "python",
   "pygments_lexer": "ipython3",
   "version": "3.6.15"
  }
 },
 "nbformat": 4,
 "nbformat_minor": 1
}
