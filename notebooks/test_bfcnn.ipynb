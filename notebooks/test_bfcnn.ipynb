{
 "cells": [
  {
   "cell_type": "code",
   "execution_count": 1,
   "metadata": {},
   "outputs": [],
   "source": [
    "import os\n",
    "import sys\n",
    "import numpy as np\n",
    "import tensorflow as tf\n",
    "from keras import datasets\n",
    "\n",
    "sys.path.append(os.getcwd() + \"/../\")\n",
    "\n",
    "from bfcnn import BFCNN"
   ]
  },
  {
   "cell_type": "code",
   "execution_count": 2,
   "metadata": {},
   "outputs": [],
   "source": [
    "# ==============================================================================\n",
    "\n",
    "os.environ[\"TF_CPP_MIN_LOG_LEVEL\"] = \"3\"\n",
    "tf.compat.v1.disable_eager_execution()\n",
    "tf.compat.v1.logging.set_verbosity(tf.compat.v1.logging.ERROR)\n",
    "\n",
    "# ==============================================================================\n",
    "\n",
    "MIN_STD = 0.1\n",
    "MAX_STD = 10\n",
    "EPOCHS = 150\n",
    "STEP_SIZE = 30\n",
    "LR_DECAY = 0.5\n",
    "BATCH_SIZE = 32\n",
    "INITIAL_EPOCH = 0\n",
    "CLIP_NORMAL = 1.0\n",
    "LEARNING_RATE = 0.01\n",
    "INPUT_SHAPE = (28, 28, 1)\n",
    "PRINT_EVERY_N_BATCHES = 200\n"
   ]
  },
  {
   "cell_type": "code",
   "execution_count": 3,
   "metadata": {},
   "outputs": [],
   "source": [
    "# build model\n",
    "model = BFCNN(input_dims=INPUT_SHAPE)"
   ]
  },
  {
   "cell_type": "code",
   "execution_count": null,
   "metadata": {},
   "outputs": [
    {
     "name": "stderr",
     "output_type": "stream",
     "text": [
      "2021-03-23 17:53:34,006 INFO model.py:train:249] begin training | batches per epoch 1875\n",
      "2021-03-23 17:53:34,007 INFO model.py:train:253] epoch 0\n",
      "/home/arxwn/repositories/blind_image_denoising/venv/lib/python3.6/site-packages/tensorflow/python/keras/engine/training.py:2325: UserWarning: `Model.state_updates` will be removed in a future version. This property should not be used in TensorFlow 2.0, as `updates` are applied automatically.\n",
      "  warnings.warn('`Model.state_updates` will be removed in a future version. '\n",
      "2021-03-23 17:54:17,521 INFO model.py:train:275] [batch:200] loss: 19.96\n",
      "2021-03-23 17:55:00,946 INFO model.py:train:275] [batch:400] loss: 9.22\n",
      "2021-03-23 17:55:42,461 INFO model.py:train:275] [batch:600] loss: 5.89\n",
      "2021-03-23 17:56:24,846 INFO model.py:train:275] [batch:800] loss: 4.00\n",
      "2021-03-23 17:57:11,062 INFO model.py:train:275] [batch:1000] loss: 2.69\n",
      "2021-03-23 17:57:57,821 INFO model.py:train:275] [batch:1200] loss: 4.26\n",
      "2021-03-23 17:58:45,815 INFO model.py:train:275] [batch:1400] loss: 1.65\n",
      "2021-03-23 17:59:33,737 INFO model.py:train:275] [batch:1600] loss: 2.46\n"
     ]
    }
   ],
   "source": [
    "(x_train, y_train), _ = datasets.mnist.load_data()\n",
    "\n",
    "trained_model = BFCNN.train(model=model.trainable_model, \n",
    "                            input_dims=INPUT_SHAPE, \n",
    "                            dataset=x_train,\n",
    "                            epochs=EPOCHS,\n",
    "                            batch_size=BATCH_SIZE,\n",
    "                            min_noise_std=MIN_STD,\n",
    "                            max_noise_std=MAX_STD,\n",
    "                            print_every_n_batches=PRINT_EVERY_N_BATCHES)"
   ]
  },
  {
   "cell_type": "code",
   "execution_count": null,
   "metadata": {},
   "outputs": [],
   "source": []
  }
 ],
 "metadata": {
  "kernelspec": {
   "display_name": "Python 3",
   "language": "python",
   "name": "python3"
  },
  "language_info": {
   "codemirror_mode": {
    "name": "ipython",
    "version": 3
   },
   "file_extension": ".py",
   "mimetype": "text/x-python",
   "name": "python",
   "nbconvert_exporter": "python",
   "pygments_lexer": "ipython3",
   "version": "3.6.13"
  }
 },
 "nbformat": 4,
 "nbformat_minor": 1
}
