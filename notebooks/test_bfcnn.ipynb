{
 "cells": [
  {
   "cell_type": "code",
   "execution_count": 1,
   "metadata": {},
   "outputs": [],
   "source": [
    "import os\n",
    "import sys\n",
    "import numpy as np\n",
    "import tensorflow as tf\n",
    "from keras import datasets\n",
    "import matplotlib.pyplot as plt\n",
    "\n",
    "sys.path.append(os.getcwd() + \"/../\")\n",
    "\n",
    "from bfcnn import BFCNN"
   ]
  },
  {
   "cell_type": "code",
   "execution_count": 2,
   "metadata": {},
   "outputs": [],
   "source": [
    "# ==============================================================================\n",
    "\n",
    "os.environ[\"TF_CPP_MIN_LOG_LEVEL\"] = \"3\"\n",
    "tf.compat.v1.disable_eager_execution()\n",
    "tf.compat.v1.logging.set_verbosity(tf.compat.v1.logging.ERROR)\n",
    "\n",
    "# ==============================================================================\n",
    "\n",
    "MIN_STD = 0.1\n",
    "MAX_STD = 50\n",
    "EPOCHS = 20\n",
    "STEP_SIZE = 30\n",
    "LR_DECAY = 0.8\n",
    "LR_INITIAL = 0.1\n",
    "BATCH_SIZE = 32\n",
    "INITIAL_EPOCH = 0\n",
    "CLIP_NORMAL = 1.0\n",
    "INPUT_SHAPE = (28, 28, 1)\n",
    "PRINT_EVERY_N_BATCHES = 1000\n"
   ]
  },
  {
   "cell_type": "code",
   "execution_count": 3,
   "metadata": {},
   "outputs": [],
   "source": [
    "# build model\n",
    "model = BFCNN(input_dims=INPUT_SHAPE)"
   ]
  },
  {
   "cell_type": "code",
   "execution_count": 4,
   "metadata": {},
   "outputs": [
    {
     "name": "stderr",
     "output_type": "stream",
     "text": [
      "2021-03-24 15:43:34,899 INFO model.py:train:274] begin training\n"
     ]
    },
    {
     "name": "stdout",
     "output_type": "stream",
     "text": [
      "Epoch 1/20\n"
     ]
    },
    {
     "name": "stderr",
     "output_type": "stream",
     "text": [
      "/home/arxwn/repositories/blind_image_denoising/venv/lib/python3.6/site-packages/tensorflow/python/keras/engine/training.py:2325: UserWarning: `Model.state_updates` will be removed in a future version. This property should not be used in TensorFlow 2.0, as `updates` are applied automatically.\n",
      "  warnings.warn('`Model.state_updates` will be removed in a future version. '\n"
     ]
    },
    {
     "name": "stdout",
     "output_type": "stream",
     "text": [
      "1875/1875 [==============================] - 273s 145ms/step - batch: 937.0000 - size: 32.0000 - loss: 5.7068 - mae_loss: 5.7068\n",
      "Epoch 2/20\n",
      "1875/1875 [==============================] - 271s 144ms/step - batch: 937.0000 - size: 32.0000 - loss: 3.4496 - mae_loss: 3.4496\n",
      "Epoch 3/20\n",
      "1875/1875 [==============================] - 268s 143ms/step - batch: 937.0000 - size: 32.0000 - loss: 3.2901 - mae_loss: 3.2901\n",
      "Epoch 4/20\n",
      "1875/1875 [==============================] - 264s 141ms/step - batch: 937.0000 - size: 32.0000 - loss: 3.1472 - mae_loss: 3.1472\n",
      "Epoch 5/20\n",
      "1875/1875 [==============================] - 276s 147ms/step - batch: 937.0000 - size: 32.0000 - loss: 3.1097 - mae_loss: 3.1097\n",
      "Epoch 6/20\n",
      "1875/1875 [==============================] - 275s 147ms/step - batch: 937.0000 - size: 32.0000 - loss: 3.0022 - mae_loss: 3.0022\n",
      "Epoch 7/20\n",
      "1875/1875 [==============================] - 275s 147ms/step - batch: 937.0000 - size: 32.0000 - loss: 2.9697 - mae_loss: 2.9697\n",
      "Epoch 8/20\n",
      "1875/1875 [==============================] - 271s 145ms/step - batch: 937.0000 - size: 32.0000 - loss: 2.9037 - mae_loss: 2.9037\n",
      "Epoch 9/20\n",
      "1875/1875 [==============================] - 276s 147ms/step - batch: 937.0000 - size: 32.0000 - loss: 2.9684 - mae_loss: 2.9684\n",
      "Epoch 10/20\n",
      "1875/1875 [==============================] - 285s 152ms/step - batch: 937.0000 - size: 32.0000 - loss: 2.9006 - mae_loss: 2.9006\n",
      "Epoch 11/20\n",
      "1875/1875 [==============================] - 293s 156ms/step - batch: 937.0000 - size: 32.0000 - loss: 2.9121 - mae_loss: 2.9121\n",
      "Epoch 12/20\n",
      "1875/1875 [==============================] - 347s 185ms/step - batch: 937.0000 - size: 32.0000 - loss: 2.9239 - mae_loss: 2.9239\n",
      "Epoch 13/20\n",
      "1875/1875 [==============================] - 289s 154ms/step - batch: 937.0000 - size: 32.0000 - loss: 2.8623 - mae_loss: 2.8623\n",
      "Epoch 14/20\n",
      "1875/1875 [==============================] - 277s 148ms/step - batch: 937.0000 - size: 32.0000 - loss: 2.8310 - mae_loss: 2.8310\n",
      "Epoch 15/20\n",
      "1875/1875 [==============================] - 324s 173ms/step - batch: 937.0000 - size: 32.0000 - loss: 2.8633 - mae_loss: 2.8633\n",
      "Epoch 16/20\n",
      "1875/1875 [==============================] - 290s 155ms/step - batch: 937.0000 - size: 32.0000 - loss: 2.8253 - mae_loss: 2.8253\n",
      "Epoch 17/20\n",
      "1875/1875 [==============================] - 258s 138ms/step - batch: 937.0000 - size: 32.0000 - loss: 2.8702 - mae_loss: 2.8702\n",
      "Epoch 18/20\n",
      "1875/1875 [==============================] - 264s 141ms/step - batch: 937.0000 - size: 32.0000 - loss: 2.8899 - mae_loss: 2.8899\n",
      "Epoch 19/20\n",
      "1875/1875 [==============================] - 268s 143ms/step - batch: 937.0000 - size: 32.0000 - loss: 2.7726 - mae_loss: 2.7726\n",
      "Epoch 20/20\n",
      "1875/1875 [==============================] - 279s 149ms/step - batch: 937.0000 - size: 32.0000 - loss: 2.7493 - mae_loss: 2.7493\n"
     ]
    },
    {
     "name": "stderr",
     "output_type": "stream",
     "text": [
      "2021-03-24 17:17:19,321 INFO model.py:train:291] finished  training\n"
     ]
    }
   ],
   "source": [
    "(x_train, y_train), _ = datasets.mnist.load_data()\n",
    "\n",
    "trained_model, history = \\\n",
    "    BFCNN.train(\n",
    "        model=model.trainable_model, \n",
    "        input_dims=INPUT_SHAPE,\n",
    "        dataset=x_train,\n",
    "        epochs=EPOCHS,\n",
    "        batch_size=BATCH_SIZE,\n",
    "        min_noise_std=MIN_STD,\n",
    "        max_noise_std=MAX_STD,\n",
    "        lr_initial=LR_INITIAL,\n",
    "        lr_decay=LR_DECAY,\n",
    "        print_every_n_batches=PRINT_EVERY_N_BATCHES)\n",
    "\n"
   ]
  },
  {
   "cell_type": "code",
   "execution_count": 5,
   "metadata": {},
   "outputs": [
    {
     "data": {
      "image/png": "[encoded data removed]",
      "text/plain": [
       "<Figure size 432x288 with 1 Axes>"
      ]
     },
     "metadata": {
      "needs_background": "light"
     },
     "output_type": "display_data"
    }
   ],
   "source": [
    "# summarize history for loss\n",
    "plt.plot(history.history[\"loss\"])\n",
    "plt.title(\"model loss\")\n",
    "plt.ylabel(\"loss\")\n",
    "plt.xlabel(\"epoch\")\n",
    "plt.legend([\"train\"], loc=\"upper right\")\n",
    "plt.show()"
   ]
  },
  {
   "cell_type": "code",
   "execution_count": null,
   "metadata": {},
   "outputs": [],
   "source": []
  }
 ],
 "metadata": {
  "kernelspec": {
   "display_name": "Python 3",
   "language": "python",
   "name": "python3"
  },
  "language_info": {
   "codemirror_mode": {
    "name": "ipython",
    "version": 3
   },
   "file_extension": ".py",
   "mimetype": "text/x-python",
   "name": "python",
   "nbconvert_exporter": "python",
   "pygments_lexer": "ipython3",
   "version": "3.6.13"
  }
 },
 "nbformat": 4,
 "nbformat_minor": 1
}
