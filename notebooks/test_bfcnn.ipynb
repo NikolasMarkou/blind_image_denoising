{
 "cells": [
  {
   "cell_type": "code",
   "execution_count": null,
   "metadata": {},
   "outputs": [],
   "source": [
    "import os\n",
    "import sys\n",
    "import keras\n",
    "import numpy as np\n",
    "import tensorflow as tf\n",
    "from keras import datasets\n",
    "import matplotlib\n",
    "import matplotlib.pyplot as plt\n",
    "\n",
    "sys.path.append(os.getcwd() + \"/../\")\n",
    "\n",
    "import bfcnn"
   ]
  },
  {
   "cell_type": "code",
   "execution_count": null,
   "metadata": {},
   "outputs": [],
   "source": [
    "# setup environment\n",
    "os.environ[\"TF_CPP_MIN_LOG_LEVEL\"] = \"3\"\n",
    "tf.compat.v1.enable_eager_execution\n",
    "tf.compat.v1.logging.set_verbosity(tf.compat.v1.logging.ERROR)"
   ]
  },
  {
   "cell_type": "code",
   "execution_count": null,
   "metadata": {},
   "outputs": [],
   "source": [
    "# setup variables\n",
    "LEVELS = 5\n",
    "INPUT_SHAPE = (None, None, 1)\n",
    "RANDOM_BATCH_SIZE = (1, 256, 256, 1)\n",
    "GAUSSIAN_CONFIG = {\n",
    "    \"levels\": LEVELS,\n",
    "    \"type\": \"gaussian\",\n",
    "    \"xy_max\": [2.0, 2.0],\n",
    "    \"kernel_size\": [5, 5]\n",
    "}\n",
    "LAPLACIAN_CONFIG = {\n",
    "    \"levels\": LEVELS,\n",
    "    \"type\": \"laplacian\",\n",
    "    \"xy_max\": [2.0, 2.0],\n",
    "    \"kernel_size\": [5, 5]\n",
    "}\n",
    "INVERSE_LAPLACIAN_CONFIG = {\n",
    "    \"levels\": LEVELS,\n",
    "    \"type\": \"inverse_laplacian\",\n",
    "    \"xy_max\": [2.0, 2.0],\n",
    "    \"kernel_size\": [5, 5]\n",
    "}"
   ]
  },
  {
   "cell_type": "code",
   "execution_count": null,
   "metadata": {},
   "outputs": [],
   "source": [
    "# create input for pyramids\n",
    "x = \\\n",
    "    tf.random.truncated_normal(\n",
    "        seed=0,\n",
    "        mean=0.0,\n",
    "        stddev=1,\n",
    "        shape=RANDOM_BATCH_SIZE).numpy()"
   ]
  },
  {
   "cell_type": "code",
   "execution_count": null,
   "metadata": {
    "pycharm": {
     "name": "#%%\n"
    }
   },
   "outputs": [],
   "source": [
    "gaussian_pyramid_model = \\\n",
    "    bfcnn.build_pyramid_model(\n",
    "        input_dims=INPUT_SHAPE,\n",
    "        config=GAUSSIAN_CONFIG)\n",
    "\n",
    "x_pyramid = gaussian_pyramid_model.predict(x)"
   ]
  },
  {
   "cell_type": "code",
   "execution_count": null,
   "metadata": {},
   "outputs": [],
   "source": [
    "for i in range(LEVELS):\n",
    "    mean = np.mean(x_pyramid[i])\n",
    "    print(\"mean: {0}\".format(mean))"
   ]
  },
  {
   "cell_type": "code",
   "execution_count": null,
   "metadata": {},
   "outputs": [],
   "source": [
    "# draw test samples, predictions and diff\n",
    "plt.figure(figsize=(4,4))\n",
    "plt.imshow(x[0,:,:,0], cmap=\"gray_r\") \n",
    "\n",
    "plt.figure(figsize=(16,8))\n",
    "for i in range(LEVELS):\n",
    "    x_pyramid_level = x_pyramid[i]\n",
    "    plt.subplot(1, LEVELS, i+1)\n",
    "    plt.imshow(x_pyramid_level[0,:,:,0], cmap=\"gray_r\") \n",
    "plt.show() "
   ]
  },
  {
   "cell_type": "code",
   "execution_count": null,
   "metadata": {},
   "outputs": [],
   "source": [
    "laplacian_pyramid_model = \\\n",
    "    bfcnn.build_pyramid_model(\n",
    "        input_dims=INPUT_SHAPE,\n",
    "        config=LAPLACIAN_CONFIG)\n",
    "\n",
    "inverse_laplacian_pyramid_model = \\\n",
    "    bfcnn.build_pyramid_model(\n",
    "        input_dims=INPUT_SHAPE,\n",
    "        config=INVERSE_LAPLACIAN_CONFIG)\n",
    "\n",
    "x_pyramid = laplacian_pyramid_model.predict(x)\n",
    "\n",
    "x_recovered = inverse_laplacian_pyramid_model.predict(x_pyramid)\n",
    "\n",
    "x_error = x_recovered - x"
   ]
  },
  {
   "cell_type": "code",
   "execution_count": null,
   "metadata": {},
   "outputs": [],
   "source": [
    "for i in range(LEVELS):\n",
    "    mean = np.mean(x_pyramid[i])\n",
    "    print(\"mean: {0}\".format(mean))"
   ]
  },
  {
   "cell_type": "code",
   "execution_count": null,
   "metadata": {},
   "outputs": [],
   "source": [
    "# draw test samples, predictions and diff\n",
    "plt.figure(figsize=(4,4))\n",
    "plt.imshow(x[0,:,:,0], cmap=\"gray_r\") \n",
    "\n",
    "plt.figure(figsize=(4,4))\n",
    "plt.imshow(x_error[0,:,:,0], cmap=\"gray_r\") \n",
    "\n",
    "plt.figure(figsize=(16,8))\n",
    "for i in range(LEVELS):\n",
    "    x_pyramid_level = x_pyramid[i]\n",
    "    plt.subplot(1, LEVELS, i+1)\n",
    "    plt.imshow(x_pyramid_level[0,:,:,0], cmap=\"gray_r\") \n",
    "plt.show() "
   ]
  },
  {
   "cell_type": "markdown",
   "metadata": {},
   "source": [
    "# Model config"
   ]
  },
  {
   "cell_type": "code",
   "execution_count": null,
   "metadata": {},
   "outputs": [],
   "source": [
    "model_config = {\n",
    "    \"filters\": 16,\n",
    "    \"no_layers\": 5,\n",
    "    \"min_value\": 0,\n",
    "    \"max_value\": 255,\n",
    "    \"kernel_size\": 3,\n",
    "    \"type\": \"resnet\",\n",
    "    \"batchnorm\": True,\n",
    "    \"clip_values\": False,\n",
    "    \"activation\": \"relu\",\n",
    "    \"local_normalization\": -1,\n",
    "    \"output_multiplier\": 1.0,\n",
    "    \"kernel_regularizer\": \"l1\",\n",
    "    \"final_activation\": \"tanh\",\n",
    "    \"input_shape\": [\"?\", \"?\", 1],\n",
    "    \"intermediate_results\": True,\n",
    "    \"kernel_initializer\": \"glorot_normal\",\n",
    "    \"pyramid\": {\n",
    "      \"levels\": 5,\n",
    "      \"type\": \"laplacian\",\n",
    "      \"xy_max\": [2.0, 2.0],\n",
    "      \"kernel_size\": [5, 5]\n",
    "    },\n",
    "    \"inverse_pyramid\": {\n",
    "      \"levels\": 5,\n",
    "      \"type\": \"inverse_laplacian\",\n",
    "      \"xy_max\": [2.0, 2.0],\n",
    "      \"kernel_size\": [5, 5]\n",
    "    }\n",
    "}"
   ]
  },
  {
   "cell_type": "code",
   "execution_count": null,
   "metadata": {},
   "outputs": [],
   "source": [
    "model_denoise, model_normalize, model_denormalize = bfcnn.model_builder(config=model_config)"
   ]
  },
  {
   "cell_type": "code",
   "execution_count": null,
   "metadata": {},
   "outputs": [],
   "source": [
    "model_denoise.save(\"model_denoise.h5\")"
   ]
  },
  {
   "cell_type": "code",
   "execution_count": null,
   "metadata": {},
   "outputs": [],
   "source": []
  }
 ],
 "metadata": {
  "kernelspec": {
   "display_name": "Python 3",
   "language": "python",
   "name": "python3"
  },
  "language_info": {
   "codemirror_mode": {
    "name": "ipython",
    "version": 3
   },
   "file_extension": ".py",
   "mimetype": "text/x-python",
   "name": "python",
   "nbconvert_exporter": "python",
   "pygments_lexer": "ipython3",
   "version": "3.6.15"
  }
 },
 "nbformat": 4,
 "nbformat_minor": 1
}
