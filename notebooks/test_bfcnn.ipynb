{
 "cells": [
  {
   "cell_type": "code",
   "execution_count": 1,
   "metadata": {},
   "outputs": [],
   "source": [
    "import os\n",
    "import sys\n",
    "import keras\n",
    "import numpy as np\n",
    "import tensorflow as tf\n",
    "from keras import datasets\n",
    "import matplotlib\n",
    "import matplotlib.pyplot as plt\n",
    "\n",
    "sys.path.append(os.getcwd() + \"/../\")\n",
    "\n",
    "from bfcnn import BFCNN, collage, get_conv2d_weights"
   ]
  },
  {
   "cell_type": "code",
   "execution_count": 2,
   "metadata": {},
   "outputs": [],
   "source": [
    "# setup environment\n",
    "os.environ[\"TF_CPP_MIN_LOG_LEVEL\"] = \"3\"\n",
    "tf.compat.v1.disable_eager_execution()\n",
    "tf.compat.v1.logging.set_verbosity(tf.compat.v1.logging.ERROR)"
   ]
  },
  {
   "cell_type": "code",
   "execution_count": 3,
   "metadata": {},
   "outputs": [],
   "source": [
    "# get dataset \n",
    "(x_train, y_train), (x_test, y_test) = datasets.mnist.load_data()\n",
    "x_train = x_train.astype(np.float32)\n",
    "x_train = np.expand_dims(x_train, axis=3)\n",
    "x_test = x_test.astype(np.float32)\n",
    "x_test = np.expand_dims(x_test, axis=3)"
   ]
  },
  {
   "cell_type": "code",
   "execution_count": 4,
   "metadata": {},
   "outputs": [],
   "source": [
    "EPOCHS = 10\n",
    "FILTERS = 32\n",
    "NO_LAYERS = 5\n",
    "MIN_STD = 1.0\n",
    "MAX_STD = 100.0\n",
    "LR_DECAY = 0.9\n",
    "LR_INITIAL = 0.1\n",
    "BATCH_SIZE = 64\n",
    "CLIP_NORMAL = 1.0\n",
    "INPUT_SHAPE = (28, 28, 1)\n",
    "PRINT_EVERY_N_BATCHES = 2000"
   ]
  },
  {
   "cell_type": "code",
   "execution_count": 5,
   "metadata": {
    "scrolled": false
   },
   "outputs": [],
   "source": [
    "# build model\n",
    "model = \\\n",
    "    BFCNN(\n",
    "        input_dims=INPUT_SHAPE,\n",
    "        no_layers=NO_LAYERS,\n",
    "        filters=FILTERS,\n",
    "        kernel_regularizer=keras.regularizers.l2(0.001))"
   ]
  },
  {
   "cell_type": "code",
   "execution_count": null,
   "metadata": {},
   "outputs": [
    {
     "name": "stderr",
     "output_type": "stream",
     "text": [
      "2021-04-02 17:02:03,771 INFO custom_callbacks.py:__init__:88] deleting existing training image in ./training/images\n",
      "2021-04-02 17:02:03,773 INFO model.py:train:326] begin training\n"
     ]
    },
    {
     "name": "stdout",
     "output_type": "stream",
     "text": [
      "Epoch 1/10\n"
     ]
    },
    {
     "name": "stderr",
     "output_type": "stream",
     "text": [
      "/home/arxwn/Repositories/blind_image_denoising/venv/lib/python3.6/site-packages/tensorflow/python/keras/engine/training.py:2325: UserWarning: `Model.state_updates` will be removed in a future version. This property should not be used in TensorFlow 2.0, as `updates` are applied automatically.\n",
      "  warnings.warn('`Model.state_updates` will be removed in a future version. '\n"
     ]
    },
    {
     "name": "stdout",
     "output_type": "stream",
     "text": [
      "3752/3752 [==============================] - 114s 29ms/step - batch: 1875.5000 - size: 63.9659 - loss: 5.6687 - mae_loss: 5.3196\n",
      "Epoch 2/10\n",
      "3752/3752 [==============================] - 108s 28ms/step - batch: 1875.5000 - size: 63.9659 - loss: 3.6448 - mae_loss: 3.3968\n",
      "Epoch 3/10\n",
      "3752/3752 [==============================] - 108s 29ms/step - batch: 1875.5000 - size: 63.9659 - loss: 3.4766 - mae_loss: 3.2614\n",
      "Epoch 4/10\n",
      "3752/3752 [==============================] - 108s 28ms/step - batch: 1875.5000 - size: 63.9659 - loss: 3.3130 - mae_loss: 3.1143\n",
      "Epoch 5/10\n",
      "3752/3752 [==============================] - 108s 28ms/step - batch: 1875.5000 - size: 63.9659 - loss: 3.1521 - mae_loss: 2.9649\n",
      "Epoch 6/10\n",
      "3752/3752 [==============================] - 107s 28ms/step - batch: 1875.5000 - size: 63.9659 - loss: 3.1536 - mae_loss: 2.9742\n",
      "Epoch 7/10\n",
      "3752/3752 [==============================] - 107s 28ms/step - batch: 1875.5000 - size: 63.9659 - loss: 3.0602 - mae_loss: 2.8872\n",
      "Epoch 8/10\n",
      " 479/3752 [==>...........................] - ETA: 1:32 - batch: 239.0000 - size: 64.0000 - loss: 3.0128 - mae_loss: 2.8429"
     ]
    }
   ],
   "source": [
    "# train dataset\n",
    "trained_model, history = \\\n",
    "    BFCNN.train(\n",
    "        model=model, \n",
    "        input_dims=INPUT_SHAPE,\n",
    "        dataset=x_train,\n",
    "        epochs=EPOCHS,\n",
    "        batch_size=BATCH_SIZE,\n",
    "        min_noise_std=MIN_STD,\n",
    "        max_noise_std=MAX_STD,\n",
    "        lr_initial=LR_INITIAL,\n",
    "        lr_decay=LR_DECAY,\n",
    "        print_every_n_batches=PRINT_EVERY_N_BATCHES)\n"
   ]
  },
  {
   "cell_type": "code",
   "execution_count": null,
   "metadata": {},
   "outputs": [],
   "source": [
    "matplotlib.use(\"nbAgg\")\n",
    "\n",
    "# summarize history for loss\n",
    "plt.figure(figsize=(15,5))\n",
    "plt.plot(history.history[\"loss\"],\n",
    "         marker=\"o\",\n",
    "         color=\"red\", \n",
    "         linewidth=3, \n",
    "         markersize=6)\n",
    "plt.grid(True)\n",
    "plt.title(\"model loss\")\n",
    "plt.ylabel(\"loss\")\n",
    "plt.xlabel(\"epoch\")\n",
    "plt.legend([\"train\"], loc=\"upper right\")\n",
    "plt.show()"
   ]
  },
  {
   "cell_type": "code",
   "execution_count": null,
   "metadata": {},
   "outputs": [],
   "source": [
    "from math import log10\n",
    "\n",
    "# calculate mse for different std\n",
    "sample_test = x_test[0:1024,:,:,:]\n",
    "sample_test_mse = []\n",
    "sample_train = x_train[0:1024,:,:,:]\n",
    "sample_train_mse = []\n",
    "sample_std = []\n",
    "\n",
    "for std_int in range(0, int(MAX_STD), 5):\n",
    "    std = float(std_int)\n",
    "    #\n",
    "    noisy_sample_test = sample_test + np.random.normal(0.0, std, sample_test.shape)\n",
    "    noisy_sample_test = np.clip(noisy_sample_test, 0.0, 255.0)\n",
    "    results_test = trained_model.model.predict(noisy_sample_test)\n",
    "    mse_test = np.mean(np.power(sample_test - results_test, 2.0))\n",
    "    sample_test_mse.append(mse_test)\n",
    "    #\n",
    "    noisy_sample_train = sample_train + np.random.normal(0.0, std, sample_train.shape)\n",
    "    noisy_sample_train = np.clip(noisy_sample_train, 0.0, 255.0)\n",
    "    results_train = trained_model.model.predict(noisy_sample_train)\n",
    "    mse_train = np.mean(np.power(sample_train - results_train, 2.0))\n",
    "    sample_train_mse.append(mse_train)\n",
    "    #\n",
    "    sample_std.append(std)"
   ]
  },
  {
   "cell_type": "code",
   "execution_count": null,
   "metadata": {},
   "outputs": [],
   "source": [
    "matplotlib.use(\"nbAgg\")\n",
    "\n",
    "# summarize history for loss\n",
    "plt.figure(figsize=(16,8))\n",
    "plt.plot(sample_std,\n",
    "         [20 * log10(255) -10 * log10(m) for m in sample_test_mse],\n",
    "         color=\"red\",\n",
    "         linewidth=2)\n",
    "plt.plot(sample_std,\n",
    "         [20 * log10(255) -10 * log10(m) for m in sample_train_mse],\n",
    "         color=\"green\", \n",
    "         linewidth=2)\n",
    "plt.grid(True)\n",
    "plt.title(\"Peak Signal-to-Noise Ratio\")\n",
    "plt.ylabel(\"PSNR\")\n",
    "plt.xlabel(\"Additive normal noise standard deviation\")\n",
    "plt.legend([\"test\", \"train\"], loc=\"lower right\")\n",
    "plt.show()"
   ]
  },
  {
   "cell_type": "code",
   "execution_count": null,
   "metadata": {},
   "outputs": [],
   "source": [
    "# draw test samples, predictions and diff\n",
    "matplotlib.use(\"nbAgg\")\n",
    "\n",
    "sample = x_test[0:64,:,:,:]\n",
    "noisy_sample = sample + np.random.normal(0.0, MAX_STD, sample.shape)\n",
    "noisy_sample = np.clip(noisy_sample, 0.0, 255.0)\n",
    "results = trained_model.model.predict(noisy_sample)\n",
    "    \n",
    "plt.figure(figsize=(14,14))\n",
    "plt.subplot(2, 2, 1)\n",
    "plt.imshow(collage(sample), cmap=\"gray_r\") \n",
    "plt.subplot(2, 2, 2)\n",
    "plt.imshow(collage(noisy_sample), cmap=\"gray_r\") \n",
    "plt.subplot(2, 2, 3)\n",
    "plt.imshow(collage(results), cmap=\"gray_r\") \n",
    "plt.subplot(2, 2, 4)\n",
    "plt.imshow(collage(np.abs(sample - results)), cmap=\"gray_r\") \n",
    "plt.show() "
   ]
  },
  {
   "cell_type": "code",
   "execution_count": null,
   "metadata": {},
   "outputs": [],
   "source": [
    "trained_model.save(\"./model.h5\")"
   ]
  },
  {
   "cell_type": "code",
   "execution_count": null,
   "metadata": {},
   "outputs": [],
   "source": [
    "m = trained_model.model\n",
    "\n",
    "weights = get_conv2d_weights(m)\n",
    "\n",
    "matplotlib.use(\"nbAgg\")\n",
    "plt.figure(figsize=(14,5))\n",
    "plt.grid(True)\n",
    "plt.hist(x=weights, bins=500, range=(-0.4,+0.4), histtype=\"bar\", log=True)\n",
    "plt.show()"
   ]
  },
  {
   "cell_type": "code",
   "execution_count": null,
   "metadata": {},
   "outputs": [],
   "source": []
  }
 ],
 "metadata": {
  "kernelspec": {
   "display_name": "Python 3",
   "language": "python",
   "name": "python3"
  },
  "language_info": {
   "codemirror_mode": {
    "name": "ipython",
    "version": 3
   },
   "file_extension": ".py",
   "mimetype": "text/x-python",
   "name": "python",
   "nbconvert_exporter": "python",
   "pygments_lexer": "ipython3",
   "version": "3.6.9"
  }
 },
 "nbformat": 4,
 "nbformat_minor": 1
}
