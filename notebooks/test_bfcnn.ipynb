{
 "cells": [
  {
   "cell_type": "code",
   "execution_count": 1,
   "metadata": {},
   "outputs": [],
   "source": [
    "import os\n",
    "import sys\n",
    "import numpy as np\n",
    "import tensorflow as tf\n",
    "from keras import datasets\n",
    "import matplotlib.pyplot as plt\n",
    "\n",
    "sys.path.append(os.getcwd() + \"/../\")\n",
    "\n",
    "from bfcnn import BFCNN, collage"
   ]
  },
  {
   "cell_type": "code",
   "execution_count": 2,
   "metadata": {},
   "outputs": [],
   "source": [
    "# ==============================================================================\n",
    "\n",
    "os.environ[\"TF_CPP_MIN_LOG_LEVEL\"] = \"3\"\n",
    "tf.compat.v1.disable_eager_execution()\n",
    "tf.compat.v1.logging.set_verbosity(tf.compat.v1.logging.ERROR)\n",
    "\n",
    "# =============================================================================="
   ]
  },
  {
   "cell_type": "code",
   "execution_count": 3,
   "metadata": {},
   "outputs": [],
   "source": [
    "# get dataset \n",
    "(x_train, y_train), (x_test, y_test) = datasets.mnist.load_data()\n",
    "x_train = x_train.astype(np.float32)\n",
    "x_train = np.expand_dims(x_train, axis=3)\n",
    "x_test = x_test.astype(np.float32)\n",
    "x_test = np.expand_dims(x_test, axis=3)"
   ]
  },
  {
   "cell_type": "code",
   "execution_count": 4,
   "metadata": {},
   "outputs": [],
   "source": [
    "NO_LAYERS = 5\n",
    "MIN_STD = 0.1\n",
    "MAX_STD = 30\n",
    "EPOCHS = 10\n",
    "LR_DECAY = 0.8\n",
    "LR_INITIAL = 0.1\n",
    "BATCH_SIZE = 32\n",
    "CLIP_NORMAL = 1.0\n",
    "INPUT_SHAPE = (28, 28, 1)\n",
    "PRINT_EVERY_N_BATCHES = 1000"
   ]
  },
  {
   "cell_type": "code",
   "execution_count": 5,
   "metadata": {},
   "outputs": [],
   "source": [
    "# build model\n",
    "model = \\\n",
    "    BFCNN(\n",
    "        input_dims=INPUT_SHAPE, \n",
    "        no_layers=NO_LAYERS)"
   ]
  },
  {
   "cell_type": "code",
   "execution_count": null,
   "metadata": {},
   "outputs": [
    {
     "name": "stderr",
     "output_type": "stream",
     "text": [
      "2021-03-26 13:22:20,442 INFO model.py:train:330] begin training\n"
     ]
    },
    {
     "name": "stdout",
     "output_type": "stream",
     "text": [
      "Epoch 1/10\n"
     ]
    },
    {
     "name": "stderr",
     "output_type": "stream",
     "text": [
      "/home/arxwn/repositories/blind_image_denoising/venv/lib/python3.6/site-packages/tensorflow/python/keras/engine/training.py:2325: UserWarning: `Model.state_updates` will be removed in a future version. This property should not be used in TensorFlow 2.0, as `updates` are applied automatically.\n",
      "  warnings.warn('`Model.state_updates` will be removed in a future version. '\n"
     ]
    },
    {
     "name": "stdout",
     "output_type": "stream",
     "text": [
      "1875/1875 [==============================] - 255s 135ms/step - batch: 937.0000 - size: 32.0000 - loss: 2.4740 - mae_loss: 2.4740\n",
      "Epoch 2/10\n",
      "1875/1875 [==============================] - 257s 137ms/step - batch: 937.0000 - size: 32.0000 - loss: 1.7317 - mae_loss: 1.7317\n",
      "Epoch 3/10\n",
      "1875/1875 [==============================] - 260s 139ms/step - batch: 937.0000 - size: 32.0000 - loss: 1.5576 - mae_loss: 1.5576\n",
      "Epoch 4/10\n",
      "1875/1875 [==============================] - 263s 140ms/step - batch: 937.0000 - size: 32.0000 - loss: 1.3981 - mae_loss: 1.3981\n",
      "Epoch 5/10\n",
      "1875/1875 [==============================] - 256s 136ms/step - batch: 937.0000 - size: 32.0000 - loss: 1.3525 - mae_loss: 1.3525\n",
      "Epoch 6/10\n",
      " 272/1875 [===>..........................] - ETA: 3:39 - batch: 135.5000 - size: 32.0000 - loss: 1.1680 - mae_loss: 1.1680"
     ]
    }
   ],
   "source": [
    "# train dataset\n",
    "trained_model, history = \\\n",
    "    BFCNN.train(\n",
    "        model=model, \n",
    "        input_dims=INPUT_SHAPE,\n",
    "        dataset=x_train,\n",
    "        epochs=EPOCHS,\n",
    "        batch_size=BATCH_SIZE,\n",
    "        min_noise_std=MIN_STD,\n",
    "        max_noise_std=MAX_STD,\n",
    "        lr_initial=LR_INITIAL,\n",
    "        lr_decay=LR_DECAY,\n",
    "        print_every_n_batches=PRINT_EVERY_N_BATCHES)\n",
    "\n"
   ]
  },
  {
   "cell_type": "code",
   "execution_count": null,
   "metadata": {},
   "outputs": [],
   "source": [
    "# summarize history for loss\n",
    "plt.figure(figsize=(13,5))\n",
    "plt.plot(history.history[\"loss\"])\n",
    "plt.title(\"model loss\")\n",
    "plt.ylabel(\"loss\")\n",
    "plt.xlabel(\"epoch\")\n",
    "plt.legend([\"train\"], loc=\"upper right\")\n",
    "plt.show()"
   ]
  },
  {
   "cell_type": "code",
   "execution_count": null,
   "metadata": {},
   "outputs": [],
   "source": [
    "sample = x_test[100:200,:,:,:]\n",
    "sample = sample + np.random.normal(0.0, MAX_STD/2, sample.shape)\n",
    "sample = np.clip(sample, 0.0, 255.0)\n",
    "results = trained_model.model.predict(sample)\n",
    "\n",
    "plt.figure(figsize=(15,15))\n",
    "plt.subplot(1, 3, 1)\n",
    "plt.imshow(collage(sample), cmap=\"gray_r\") \n",
    "plt.subplot(1, 3, 2)\n",
    "plt.imshow(collage(results), cmap=\"gray_r\") \n",
    "plt.subplot(1, 3, 3)\n",
    "plt.imshow(collage(np.abs(sample - results)), cmap=\"gray_r\") \n",
    "plt.show() "
   ]
  },
  {
   "cell_type": "code",
   "execution_count": null,
   "metadata": {},
   "outputs": [],
   "source": []
  }
 ],
 "metadata": {
  "kernelspec": {
   "display_name": "Python 3",
   "language": "python",
   "name": "python3"
  },
  "language_info": {
   "codemirror_mode": {
    "name": "ipython",
    "version": 3
   },
   "file_extension": ".py",
   "mimetype": "text/x-python",
   "name": "python",
   "nbconvert_exporter": "python",
   "pygments_lexer": "ipython3",
   "version": "3.6.13"
  }
 },
 "nbformat": 4,
 "nbformat_minor": 1
}
