{
 "cells": [
  {
   "cell_type": "code",
   "execution_count": 245,
   "id": "posted-electric",
   "metadata": {},
   "outputs": [],
   "source": [
    "import os\n",
    "import sys\n",
    "import sklearn\n",
    "import numpy as np\n",
    "import matplotlib\n",
    "import matplotlib.pyplot as plt\n",
    "from sklearn.preprocessing import MinMaxScaler, StandardScaler\n",
    "from sklearn.decomposition import PCA, SparsePCA"
   ]
  },
  {
   "cell_type": "code",
   "execution_count": 246,
   "id": "forty-shell",
   "metadata": {},
   "outputs": [],
   "source": [
    "x_random = np.random.normal(loc=0, scale=1, size=(5,5,3,16))"
   ]
  },
  {
   "cell_type": "code",
   "execution_count": 247,
   "outputs": [
    {
     "name": "stdout",
     "output_type": "stream",
     "text": [
      "n_zeros: 0\n"
     ]
    }
   ],
   "source": [
    "print(f\"n_zeros: {np.count_nonzero(x_random==0)}\")"
   ],
   "metadata": {
    "collapsed": false,
    "pycharm": {
     "name": "#%% count zeros\n"
    }
   }
  },
  {
   "cell_type": "code",
   "execution_count": 248,
   "id": "veterinary-comfort",
   "metadata": {},
   "outputs": [],
   "source": [
    "x_random_transpose = \\\n",
    "    np.transpose(x_random, axes=(3, 0, 1, 2))"
   ]
  },
  {
   "cell_type": "code",
   "execution_count": 249,
   "outputs": [],
   "source": [
    "# convert from 4d to 2d\n",
    "x_transpose_shape = x_random_transpose.shape\n",
    "x_reshaped = \\\n",
    "    np.reshape(\n",
    "        x_random_transpose,\n",
    "        newshape=(\n",
    "            x_transpose_shape[0],\n",
    "            np.prod(x_transpose_shape[1:])))"
   ],
   "metadata": {
    "collapsed": false,
    "pycharm": {
     "name": "#%%\n"
    }
   }
  },
  {
   "cell_type": "code",
   "execution_count": 250,
   "outputs": [
    {
     "name": "stdout",
     "output_type": "stream",
     "text": [
      "x_reshaped before transform: (16, 75)\n",
      "no_components: 15\n",
      "diff_components: 60\n",
      "x_reshaped after transform: (16, 15)\n",
      "x_reshaped after inverse transform: (16, 75)\n"
     ]
    }
   ],
   "source": [
    "print(f\"x_reshaped before transform: {x_reshaped.shape}\")\n",
    "\n",
    "pca = PCA(n_components=0.99)\n",
    "pca.fit(x_reshaped)\n",
    "\n",
    "print(f\"no_components: {pca.n_components_}\")\n",
    "diff_components = x_reshaped.shape[1] - pca.n_components_\n",
    "print(f\"diff_components: {diff_components}\")\n",
    "\n",
    "# forward\n",
    "x_reshaped = pca.transform(x_reshaped)\n",
    "print(f\"x_reshaped after transform: {x_reshaped.shape}\")\n",
    "\n",
    "if diff_components > 0:\n",
    "    x_reshaped = \\\n",
    "        np.concatenate(\n",
    "            [x_reshaped, np.zeros(shape=(x_reshaped.shape[0], diff_components))],\n",
    "            axis=1)\n",
    "# backward\n",
    "#x_reshaped = pca.inverse_transform(x_reshaped)\n",
    "print(f\"x_reshaped after inverse transform: {x_reshaped.shape}\")"
   ],
   "metadata": {
    "collapsed": false,
    "pycharm": {
     "name": "#%%\n"
    }
   }
  },
  {
   "cell_type": "code",
   "execution_count": 251,
   "outputs": [
    {
     "name": "stdout",
     "output_type": "stream",
     "text": [
      "n_zeros: 960\n"
     ]
    }
   ],
   "source": [
    "print(f\"n_zeros: {np.count_nonzero(x_reshaped==0)}\")"
   ],
   "metadata": {
    "collapsed": false,
    "pycharm": {
     "name": "#%% count zeros\n"
    }
   }
  },
  {
   "cell_type": "code",
   "execution_count": 252,
   "outputs": [],
   "source": [
    "# convert from 2d to 4d\n",
    "x_reshaped = \\\n",
    "    np.reshape(\n",
    "        x_reshaped,\n",
    "        newshape=x_transpose_shape)"
   ],
   "metadata": {
    "collapsed": false,
    "pycharm": {
     "name": "#%%\n"
    }
   }
  },
  {
   "cell_type": "code",
   "execution_count": 253,
   "id": "finished-rider",
   "metadata": {},
   "outputs": [],
   "source": [
    "x_random_estimate = \\\n",
    "    np.transpose(x_reshaped, axes=(1, 2, 3, 0))"
   ]
  },
  {
   "cell_type": "code",
   "execution_count": 254,
   "outputs": [
    {
     "name": "stdout",
     "output_type": "stream",
     "text": [
      "x_max: 8.306206176031946\n"
     ]
    }
   ],
   "source": [
    "x_max = \\\n",
    "    np.max(\n",
    "        np.abs(x_random_estimate - x_random))\n",
    "\n",
    "print(f\"x_max: {x_max}\")"
   ],
   "metadata": {
    "collapsed": false,
    "pycharm": {
     "name": "#%%\n"
    }
   }
  },
  {
   "cell_type": "code",
   "execution_count": 254,
   "id": "experienced-situation",
   "metadata": {},
   "outputs": [],
   "source": []
  }
 ],
 "metadata": {
  "kernelspec": {
   "display_name": "Python 3",
   "language": "python",
   "name": "python3"
  },
  "language_info": {
   "codemirror_mode": {
    "name": "ipython",
    "version": 3
   },
   "file_extension": ".py",
   "mimetype": "text/x-python",
   "name": "python",
   "nbconvert_exporter": "python",
   "pygments_lexer": "ipython3",
   "version": "3.6.15"
  }
 },
 "nbformat": 4,
 "nbformat_minor": 5
}