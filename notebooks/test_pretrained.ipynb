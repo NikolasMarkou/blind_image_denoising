{
 "cells": [
  {
   "cell_type": "code",
   "execution_count": null,
   "id": "posted-electric",
   "metadata": {},
   "outputs": [],
   "source": [
    "import os\n",
    "import sys\n",
    "import pathlib\n",
    "import numpy as np\n",
    "import pandas as pd\n",
    "import tensorflow as tf\n",
    "import matplotlib.pyplot as plt\n",
    "from IPython.display import display\n",
    "\n",
    "sys.path.append(os.getcwd() + \"/../\")\n",
    "\n",
    "import bfcnn"
   ]
  },
  {
   "cell_type": "code",
   "execution_count": null,
   "id": "upset-staff",
   "metadata": {
    "pycharm": {
     "name": "#%%\n"
    }
   },
   "outputs": [],
   "source": [
    "# setup environment\n",
    "os.environ[\"TF_CPP_MIN_LOG_LEVEL\"] = \"3\"\n",
    "tf.compat.v1.enable_eager_execution()\n",
    "tf.compat.v1.logging.set_verbosity(tf.compat.v1.logging.ERROR)"
   ]
  },
  {
   "cell_type": "code",
   "execution_count": null,
   "id": "upper-enlargement",
   "metadata": {
    "pycharm": {
     "name": "#%%\n"
    }
   },
   "outputs": [],
   "source": [
    "# base directory for test images\n",
    "IMAGES_TEST_DIR = \\\n",
    "    pathlib.Path(os.path.abspath('')).parent.resolve() / \"images\" / \"test\"\n",
    "\n",
    "# directory of kitti test images\n",
    "KITTI_DIR = \\\n",
    "    IMAGES_TEST_DIR / \"kitti\"\n",
    "\n",
    "# all the kitti test images\n",
    "KITTI_IMAGES = \\\n",
    "    [img for img in (KITTI_DIR / \"files\").glob(\"*.png\")]\n"
   ]
  },
  {
   "cell_type": "code",
   "execution_count": null,
   "id": "forty-shell",
   "metadata": {
    "pycharm": {
     "name": "#%%\n"
    }
   },
   "outputs": [],
   "source": [
    "SHOW_IMAGES = False\n",
    "FIG_SIZE = (24, 8)\n",
    "TARGET_SIZE = (128, 384)\n",
    "NOISE_STD = list(range(1, 80, 5))\n",
    "RESOLUTIONS= [(128, 384), (256,768)]\n",
    "#KITTI_IMAGES_SAMPLE = sample(KITTI_IMAGES, 5)\n",
    "KITTI_IMAGES_SAMPLE = KITTI_IMAGES\n",
    "df = \\\n",
    "    pd.DataFrame(\n",
    "        columns=[\n",
    "            \"model_name\", \"image\",\n",
    "            \"noise_std\", \"mae\",\n",
    "            \"mse\", \"resolution\"\n",
    "        ])\n",
    "\n",
    "for model_name in bfcnn.pretrained_models.keys():\n",
    "    model = bfcnn.load_model(model_name)\n",
    "    for img_path in KITTI_IMAGES_SAMPLE:\n",
    "        for resolution in RESOLUTIONS:\n",
    "            img = \\\n",
    "                tf.keras.preprocessing.image.load_img(\n",
    "                    path=img_path,\n",
    "                    color_mode=\"rgb\",\n",
    "                    target_size=resolution,\n",
    "                    interpolation=\"bilinear\")\n",
    "            img_original = \\\n",
    "                tf.keras.preprocessing.image.img_to_array(\n",
    "                    img=img)\n",
    "            img_original = tf.cast(img_original, dtype=tf.float32)\n",
    "            img_original = tf.expand_dims(img_original, axis=0)\n",
    "            img_original = tf.cast(img_original, dtype=tf.uint8)\n",
    "\n",
    "            for noise_std in NOISE_STD:\n",
    "                img_noisy = \\\n",
    "                    tf.cast(img_original, dtype=tf.float32) + \\\n",
    "                    tf.random.truncated_normal(\n",
    "                        mean=0,\n",
    "                        stddev=noise_std,\n",
    "                        shape=img_original.shape)\n",
    "                img_noisy = tf.clip_by_value(img_noisy, clip_value_min=0, clip_value_max=255)\n",
    "                img_noisy = tf.round(img_noisy)\n",
    "                img_noisy = tf.cast(img_noisy, dtype=tf.uint8)\n",
    "                img_denoised = model(img_noisy)\n",
    "                # ---\n",
    "                img_noisy_np = img_noisy.numpy()\n",
    "                img_original_np = img_original.numpy()\n",
    "                img_denoised_np = img_denoised.numpy()\n",
    "                assert img_denoised_np.shape == img_original_np.shape\n",
    "                assert img_denoised_np.shape == img_noisy_np.shape\n",
    "                # --- calculate mae, mse\n",
    "                mae = \\\n",
    "                    np.mean\\\n",
    "                        (np.abs(img_original_np.astype(\"float\") - img_denoised_np.astype(\"float\")),\n",
    "                         axis=None)\n",
    "                mse = \\\n",
    "                    np.mean\\\n",
    "                        (np.square(img_original_np.astype(\"float\") - img_denoised_np.astype(\"float\")),\n",
    "                         axis=None)\n",
    "                # --- append df\n",
    "                df = \\\n",
    "                    df.append(\n",
    "                        {\n",
    "                            \"mae\": mae,\n",
    "                            \"mse\": mse,\n",
    "                            \"image\": img_path,\n",
    "                            \"noise_std\": noise_std,\n",
    "                            \"model_name\": model_name,\n",
    "                            \"resolution\": resolution\n",
    "                        },\n",
    "                        ignore_index=True)\n",
    "\n",
    "                # --- visualize or not\n",
    "                if SHOW_IMAGES:\n",
    "                    norm = plt.Normalize(0, 255)\n",
    "                    fig, axes = plt.subplots(nrows=1, ncols=3, figsize=FIG_SIZE)\n",
    "                    im0 = axes[0].imshow(img_original_np[0,:,:,:], norm=norm)\n",
    "                    im1 = axes[1].imshow(img_noisy_np[0,:,:,:], norm=norm)\n",
    "                    im2 = axes[2].imshow(img_denoised_np[0,:,:,:], norm=norm)\n",
    "                    axes[0].set_title(f\"original\")\n",
    "                    axes[0].axis(\"off\")\n",
    "                    axes[1].set_title(f\"noisy\")\n",
    "                    axes[1].axis(\"off\")\n",
    "                    axes[2].set_title(f\"denoised\")\n",
    "                    axes[2].axis(\"off\")\n",
    "                    plt.tight_layout()\n",
    "                    plt.show()\n",
    "                    print(f\"mae: {mae:0.2f}\")"
   ]
  },
  {
   "cell_type": "code",
   "execution_count": null,
   "id": "perfect-conflict",
   "metadata": {
    "pycharm": {
     "name": "#%%\n"
    }
   },
   "outputs": [],
   "source": [
    "display(df)"
   ]
  },
  {
   "cell_type": "code",
   "execution_count": null,
   "id": "sexual-politics",
   "metadata": {
    "pycharm": {
     "name": "#%%\n"
    }
   },
   "outputs": [],
   "source": [
    "VISUALIZE_FIG_SIZE = (20,12)"
   ]
  },
  {
   "cell_type": "code",
   "execution_count": null,
   "id": "black-rehabilitation",
   "metadata": {
    "pycharm": {
     "name": "#%% visualize mae / noise_std\n"
    }
   },
   "outputs": [],
   "source": [
    "fig = plt.figure(figsize=VISUALIZE_FIG_SIZE)\n",
    "for label in list(bfcnn.pretrained_models.keys()):\n",
    "    x = df[df[\"model_name\"]==label][\"noise_std\"].to_numpy(dtype=np.float)\n",
    "    y = df[df[\"model_name\"]==label][\"mae\"].to_numpy(dtype=np.float)\n",
    "    plt.scatter(\n",
    "        x=x,\n",
    "        y=y,\n",
    "        edgecolor=\"none\",\n",
    "        alpha=0.75,\n",
    "        label=label)\n",
    "    plt.xticks(np.arange(0, max(x)+1, 2.0))\n",
    "    plt.yticks(np.arange(0, max(y)+1, 2.0))\n",
    "plt.grid(\"on\")\n",
    "plt.xlabel(\"noise std\")\n",
    "plt.ylabel(\"mean absolute error (MAE)\")\n",
    "plt.legend(list(bfcnn.pretrained_models.keys()))\n",
    "plt.show()"
   ]
  },
  {
   "cell_type": "code",
   "execution_count": null,
   "id": "ignored-hearing",
   "metadata": {
    "pycharm": {
     "name": "#%% visualize mse / noise_std\n"
    }
   },
   "outputs": [],
   "source": [
    "fig = plt.figure(figsize=VISUALIZE_FIG_SIZE)\n",
    "for label in list(bfcnn.pretrained_models.keys()):\n",
    "    x = df[df[\"model_name\"]==label][\"noise_std\"].to_numpy(dtype=np.float)\n",
    "    y = df[df[\"model_name\"]==label][\"mse\"].to_numpy(dtype=np.float)\n",
    "    plt.scatter(\n",
    "        x=x,\n",
    "        y=y,\n",
    "        edgecolor=\"none\",\n",
    "        alpha=0.75,\n",
    "        label=label)\n",
    "    plt.xticks(np.arange(0, max(x)+1, 2.0))\n",
    "    plt.yticks(np.arange(0, max(y)+1, 100.0))\n",
    "plt.grid(\"on\")\n",
    "plt.xlabel(\"noise std\")\n",
    "plt.ylabel(\"mean square error (MSE)\")\n",
    "plt.legend(list(bfcnn.pretrained_models.keys()))\n",
    "plt.show()"
   ]
  },
  {
   "cell_type": "code",
   "execution_count": null,
   "id": "ranking-headset",
   "metadata": {
    "pycharm": {
     "name": "#%% visualize psnr / noise_std\n"
    }
   },
   "outputs": [],
   "source": [
    "fig = plt.figure(figsize=VISUALIZE_FIG_SIZE)\n",
    "for label in list(bfcnn.pretrained_models.keys()):\n",
    "    x = df[df[\"model_name\"]==label][\"noise_std\"].to_numpy(dtype=np.float)\n",
    "    y = df[df[\"model_name\"]==label][\"mse\"].to_numpy(dtype=np.float)\n",
    "    y = 20 * np.log10(255.0 / (y + 0.0001))\n",
    "    plt.scatter(\n",
    "        x=x,\n",
    "        y=y,\n",
    "        edgecolor=\"none\",\n",
    "        alpha=0.75,\n",
    "        label=label)\n",
    "    plt.xticks(np.arange(0, max(x)+1, 2.0))\n",
    "plt.grid(\"on\")\n",
    "plt.xlabel(\"noise std\")\n",
    "plt.ylabel(\"peak signal to noise ratio (PSNR)\")\n",
    "plt.legend(list(bfcnn.pretrained_models.keys()))\n",
    "plt.show()"
   ]
  }
 ],
 "metadata": {
  "kernelspec": {
   "display_name": "Python 3",
   "language": "python",
   "name": "python3"
  },
  "language_info": {
   "codemirror_mode": {
    "name": "ipython",
    "version": 3
   },
   "file_extension": ".py",
   "mimetype": "text/x-python",
   "name": "python",
   "nbconvert_exporter": "python",
   "pygments_lexer": "ipython3",
   "version": "3.8.10"
  }
 },
 "nbformat": 4,
 "nbformat_minor": 5
}
