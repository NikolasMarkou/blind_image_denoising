{
 "cells": [
  {
   "cell_type": "code",
   "execution_count": null,
   "metadata": {},
   "outputs": [],
   "source": [
    "import os\n",
    "import sys\n",
    "import keras\n",
    "import numpy as np\n",
    "import tensorflow as tf\n",
    "import matplotlib.pyplot as plt\n",
    "\n",
    "sys.path.append(os.getcwd() + \"/../\")\n",
    "\n",
    "import bfcnn"
   ]
  },
  {
   "cell_type": "code",
   "execution_count": null,
   "metadata": {},
   "outputs": [],
   "source": [
    "# setup environment\n",
    "os.environ[\"TF_CPP_MIN_LOG_LEVEL\"] = \"3\"\n",
    "tf.compat.v1.enable_eager_execution\n",
    "tf.compat.v1.logging.set_verbosity(tf.compat.v1.logging.ERROR)"
   ]
  },
  {
   "cell_type": "code",
   "execution_count": null,
   "metadata": {},
   "outputs": [],
   "source": [
    "# setup variables\n",
    "\n",
    "INPUT_SHAPE = (None, None, 1)\n",
    "\n",
    "GAUSSIAN_CONFIG = {\n",
    "    \"levels\": 3,\n",
    "    \"type\": \"gaussian\",\n",
    "    \"xy_max\": (1.0, 1.0),\n",
    "    \"kernel_size\": (3, 3)\n",
    "}\n",
    "\n",
    "LEVELS = GAUSSIAN_CONFIG[\"levels\"]\n",
    "\n",
    "IMAGE_PATH = \"../images/test/etc/lena.jpg\""
   ]
  },
  {
   "cell_type": "code",
   "execution_count": null,
   "metadata": {},
   "outputs": [],
   "source": [
    "# create input for pyramids\n",
    "x = \\\n",
    "    tf.keras.preprocessing.image.load_img(\n",
    "        path=IMAGE_PATH,\n",
    "        color_mode=\"grayscale\",\n",
    "        target_size=(256, 256))\n",
    "\n",
    "x = tf.keras.preprocessing.image.img_to_array(x)\n",
    "x = np.array([x])\n",
    "x = ((x / 255.0) * 2.0) - 1.0"
   ]
  },
  {
   "cell_type": "code",
   "execution_count": null,
   "metadata": {
    "pycharm": {
     "name": "#%%\n"
    }
   },
   "outputs": [],
   "source": [
    "gaussian_pyramid_model = \\\n",
    "    bfcnn.build_pyramid_model(\n",
    "        input_dims=INPUT_SHAPE,\n",
    "        config=GAUSSIAN_CONFIG)\n",
    "\n",
    "inverse_gaussian_pyramid_model = \\\n",
    "    bfcnn.build_inverse_pyramid_model(\n",
    "        input_dims=INPUT_SHAPE,\n",
    "        config=GAUSSIAN_CONFIG)\n",
    "\n",
    "x_pyramid = gaussian_pyramid_model.predict(x)\n",
    "\n",
    "x_recovered = inverse_gaussian_pyramid_model.predict(x_pyramid)\n",
    "\n",
    "x_error = np.abs(x_recovered - x)"
   ]
  },
  {
   "cell_type": "code",
   "execution_count": null,
   "metadata": {
    "pycharm": {
     "name": "#%%\n"
    }
   },
   "outputs": [],
   "source": [
    "print(f\"error: {np.mean(x_error)}\")"
   ]
  },
  {
   "cell_type": "code",
   "execution_count": null,
   "metadata": {
    "pycharm": {
     "name": "#%%\n"
    }
   },
   "outputs": [],
   "source": [
    "norm = plt.Normalize(-1,+1)\n",
    "fig, axes = plt.subplots(nrows=1, ncols=3, figsize=(16,4))\n",
    "im = axes[0].imshow(x[0,:,:,0], norm=norm)\n",
    "axes[0].set_title(f\"original: {np.mean(x):0.04f}\")\n",
    "im = axes[1].imshow(x_recovered[0,:,:,0], norm=norm)\n",
    "axes[1].set_title(f\"recovered: {np.mean(x_recovered):0.04f}\")\n",
    "im = axes[2].imshow(x_error[0,:,:,0], norm=norm)\n",
    "axes[2].set_title(f\"error: {np.mean(x_error):0.04f}\")\n",
    "fig.colorbar(im, ax=axes.ravel().tolist())\n",
    "plt.show()"
   ]
  },
  {
   "cell_type": "code",
   "execution_count": null,
   "metadata": {
    "pycharm": {
     "name": "#%% plot pyramid levels\n"
    }
   },
   "outputs": [],
   "source": [
    "fig, axes = plt.subplots(nrows=1, ncols=LEVELS, figsize=(16,4))\n",
    "for i in range(LEVELS):\n",
    "    x_mean_i = np.mean(x_pyramid[i])\n",
    "    im = axes[i].imshow(x_pyramid[i][0,:,:,0], norm=norm)\n",
    "    axes[i].set_title(f\"level_{i}: {x_mean_i:0.04f}\")\n",
    "fig.colorbar(im, ax=axes.ravel().tolist())\n",
    "plt.show()\n",
    "\n"
   ]
  }
 ],
 "metadata": {
  "kernelspec": {
   "display_name": "Python 3",
   "language": "python",
   "name": "python3"
  },
  "language_info": {
   "codemirror_mode": {
    "name": "ipython",
    "version": 3
   },
   "file_extension": ".py",
   "mimetype": "text/x-python",
   "name": "python",
   "nbconvert_exporter": "python",
   "pygments_lexer": "ipython3",
   "version": "3.8.10"
  }
 },
 "nbformat": 4,
 "nbformat_minor": 1
}
