{
 "cells": [
  {
   "cell_type": "code",
   "execution_count": null,
   "metadata": {
    "pycharm": {
     "is_executing": true
    }
   },
   "source": [
    "import os\n",
    "import sys\n",
    "import pathlib\n",
    "import numpy as np\n",
    "import tensorflow as tf\n",
    "from typing import Tuple\n",
    "import matplotlib.pyplot as plt\n",
    "\n",
    "sys.path.append(os.getcwd() + \"/../\")\n",
    "\n",
    "import bfcnn\n",
    "from bfcnn.visualize import collage\n",
    "from bfcnn.utilities import load_image\n",
    "from bfcnn.dataset_file_operation import random_crops"
   ],
   "outputs": []
  },
  {
   "cell_type": "code",
   "execution_count": null,
   "metadata": {
    "pycharm": {
     "name": "#%%\n"
    }
   },
   "source": [
    "# setup environment\n",
    "os.environ[\"TF_CPP_MIN_LOG_LEVEL\"] = \"3\"\n",
    "tf.compat.v1.enable_eager_execution()\n",
    "tf.compat.v1.logging.set_verbosity(tf.compat.v1.logging.ERROR)"
   ],
   "outputs": []
  },
  {
   "cell_type": "code",
   "execution_count": null,
   "metadata": {
    "pycharm": {
     "name": "#%%\n"
    }
   },
   "source": [
    "# base directory for test images\n",
    "IMAGES_TEST_DIR = \\\n",
    "    pathlib.Path(os.path.abspath(\"\")).parent.resolve() / \"images\" / \"test\"\n",
    "\n",
    "# directory of kitti test images\n",
    "KITTI_DIR = \\\n",
    "    IMAGES_TEST_DIR / \"kitti\"\n",
    "\n",
    "# all the kitti test images\n",
    "KITTI_IMAGES = \\\n",
    "    [img for img in (KITTI_DIR / \"files\").glob(\"*.png\")]\n",
    "\n",
    "KITTI_IMAGES_BATCH = KITTI_IMAGES[0:10]\n",
    "\n",
    "img_batch = []\n",
    "for img_path in KITTI_IMAGES_BATCH:\n",
    "    # create input for pyramids\n",
    "    img = load_image(\n",
    "            path=img_path,\n",
    "            color_mode=\"rgb\",\n",
    "            normalize=True,\n",
    "            target_size=(256, 256))\n",
    "    img = img + 0.5\n",
    "    img_batch.append(img)\n",
    "img_batch = tf.concat(img_batch, axis=0)\n",
    "print(img_batch.shape)"
   ],
   "outputs": []
  },
  {
   "cell_type": "code",
   "execution_count": null,
   "metadata": {
    "pycharm": {
     "name": "#%%\n"
    }
   },
   "source": [
    "img_collage = collage(img_batch)\n",
    "fig, axes = plt.subplots(nrows=1, ncols=1, figsize=(8, 8))\n",
    "axes.imshow(img_collage)\n",
    "plt.show()"
   ],
   "outputs": []
  },
  {
   "cell_type": "code",
   "execution_count": null,
   "metadata": {
    "pycharm": {
     "name": "#%%\n"
    }
   },
   "source": [
    "crops = \\\n",
    "    random_crops(\n",
    "        img_batch,\n",
    "        no_crops_per_image=4,\n",
    "        crop_size=(64, 64),\n",
    "        cast_to_uint8=False)\n",
    "print(crops.shape)\n",
    "\n",
    "batch_collage = collage(crops)\n",
    "fig, axes = plt.subplots(nrows=1, ncols=1, figsize=(12, 12))\n",
    "axes.imshow(batch_collage)\n",
    "plt.show()"
   ],
   "outputs": []
  },
  {
   "cell_type": "code",
   "execution_count": null,
   "metadata": {},
   "source": [],
   "outputs": []
  }
 ],
 "metadata": {
  "kernelspec": {
   "display_name": "Python 3",
   "language": "python",
   "name": "python3"
  },
  "language_info": {
   "codemirror_mode": {
    "name": "ipython",
    "version": 3
   },
   "file_extension": ".py",
   "mimetype": "text/x-python",
   "name": "python",
   "nbconvert_exporter": "python",
   "pygments_lexer": "ipython3",
   "version": "3.8.10"
  }
 },
 "nbformat": 4,
 "nbformat_minor": 1
}
