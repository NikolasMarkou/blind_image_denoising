{
 "cells": [
  {
   "cell_type": "code",
   "execution_count": null,
   "metadata": {},
   "outputs": [],
   "source": [
    "import os\n",
    "import sys\n",
    "import keras\n",
    "import numpy as np\n",
    "import tensorflow as tf\n",
    "import matplotlib.pyplot as plt\n",
    "\n",
    "sys.path.append(os.getcwd() + \"/../\")\n",
    "\n",
    "import bfcnn\n",
    "from bfcnn.delta import delta_xy_magnitude"
   ]
  },
  {
   "cell_type": "code",
   "execution_count": null,
   "metadata": {},
   "outputs": [],
   "source": [
    "# setup environment\n",
    "os.environ[\"TF_CPP_MIN_LOG_LEVEL\"] = \"3\"\n",
    "tf.compat.v1.enable_eager_execution\n",
    "tf.compat.v1.logging.set_verbosity(tf.compat.v1.logging.ERROR)"
   ]
  },
  {
   "cell_type": "code",
   "execution_count": null,
   "metadata": {},
   "outputs": [],
   "source": [
    "# setup variables\n",
    "\n",
    "INPUT_SHAPE = (None, None, 1)\n",
    "\n",
    "IMAGE_PATH = \"../images/test/etc/lena.jpg\""
   ]
  },
  {
   "cell_type": "code",
   "execution_count": null,
   "metadata": {},
   "outputs": [],
   "source": [
    "# create input for pyramids\n",
    "x = \\\n",
    "    tf.keras.preprocessing.image.load_img(\n",
    "        path=IMAGE_PATH,\n",
    "        color_mode=\"grayscale\",\n",
    "        target_size=(256, 256))\n",
    "\n",
    "x = tf.keras.preprocessing.image.img_to_array(x)\n",
    "x = np.array([x])\n",
    "x = ((x / 255.0) * 2.0) - 1.0"
   ]
  },
  {
   "cell_type": "code",
   "execution_count": null,
   "metadata": {
    "pycharm": {
     "name": "#%%\n"
    }
   },
   "outputs": [],
   "source": [
    "\n",
    "x_delta = delta_xy_magnitude(input_layer=x)"
   ]
  },
  {
   "cell_type": "code",
   "execution_count": null,
   "metadata": {
    "pycharm": {
     "name": "#%%\n"
    }
   },
   "outputs": [],
   "source": [
    "norm = plt.Normalize(-1,+1)\n",
    "fig, axes = plt.subplots(nrows=1, ncols=2, figsize=(16,8))\n",
    "# ---\n",
    "im = axes[0].imshow(x[0,:,:,0], norm=norm)\n",
    "axes[0].set_title(f\"original\")\n",
    "# ---\n",
    "im = axes[1].imshow(x_delta[0,:,:,0], norm=norm)\n",
    "axes[1].set_title(f\"delta\")\n"
   ]
  }
 ],
 "metadata": {
  "kernelspec": {
   "display_name": "Python 3",
   "language": "python",
   "name": "python3"
  },
  "language_info": {
   "codemirror_mode": {
    "name": "ipython",
    "version": 3
   },
   "file_extension": ".py",
   "mimetype": "text/x-python",
   "name": "python",
   "nbconvert_exporter": "python",
   "pygments_lexer": "ipython3",
   "version": "3.8.10"
  }
 },
 "nbformat": 4,
 "nbformat_minor": 1
}
