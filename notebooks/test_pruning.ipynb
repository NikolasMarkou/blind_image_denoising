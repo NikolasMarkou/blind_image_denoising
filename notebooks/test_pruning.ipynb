{
 "cells": [
  {
   "cell_type": "code",
   "execution_count": 1,
   "id": "posted-electric",
   "metadata": {},
   "outputs": [],
   "source": [
    "import os\n",
    "import sys\n",
    "import keras\n",
    "import numpy as np\n",
    "import tensorflow as tf\n",
    "from keras import datasets\n",
    "import matplotlib\n",
    "import matplotlib.pyplot as plt\n",
    "\n",
    "sys.path.append(os.getcwd() + \"/../\")\n",
    "\n",
    "import bfcnn\n",
    "from bfcnn.pruning import get_conv2d_weights\n",
    "\n",
    "# setup environment\n",
    "os.environ[\"TF_CPP_MIN_LOG_LEVEL\"] = \"3\"\n",
    "tf.compat.v1.enable_eager_execution\n",
    "tf.compat.v1.logging.set_verbosity(tf.compat.v1.logging.ERROR)"
   ]
  },
  {
   "cell_type": "code",
   "execution_count": 2,
   "id": "forty-shell",
   "metadata": {},
   "outputs": [],
   "source": [
    "model_config = {\n",
    "    \"filters\": 16,\n",
    "    \"no_layers\": 5,\n",
    "    \"min_value\": 0,\n",
    "    \"max_value\": 255,\n",
    "    \"kernel_size\": 3,\n",
    "    \"type\": \"resnet\",\n",
    "    \"batchnorm\": True,\n",
    "    \"clip_values\": False,\n",
    "    \"activation\": \"relu\",\n",
    "    \"local_normalization\": -1,\n",
    "    \"output_multiplier\": 1.0,\n",
    "    \"kernel_regularizer\": \"l1\",\n",
    "    \"final_activation\": \"tanh\",\n",
    "    \"input_shape\": [\"?\", \"?\", 1],\n",
    "    \"intermediate_results\": True,\n",
    "    \"kernel_initializer\": \"glorot_normal\",\n",
    "    \"pyramid\": {\n",
    "      \"levels\": 5,\n",
    "      \"type\": \"laplacian\",\n",
    "      \"xy_max\": [2.0, 2.0],\n",
    "      \"kernel_size\": [5, 5]\n",
    "    },\n",
    "    \"inverse_pyramid\": {\n",
    "      \"levels\": 5,\n",
    "      \"type\": \"inverse_laplacian\",\n",
    "      \"xy_max\": [2.0, 2.0],\n",
    "      \"kernel_size\": [5, 5]\n",
    "    }\n",
    "}"
   ]
  },
  {
   "cell_type": "code",
   "execution_count": 3,
   "id": "veterinary-comfort",
   "metadata": {},
   "outputs": [
    {
     "name": "stderr",
     "output_type": "stream",
     "text": [
      "2022-02-10 22:30:01,526 INFO model_denoise.py:model_builder:31] building model with config [{'filters': 16, 'no_layers': 5, 'min_value': 0, 'max_value': 255, 'kernel_size': 3, 'type': 'resnet', 'batchnorm': True, 'clip_values': False, 'activation': 'relu', 'local_normalization': -1, 'output_multiplier': 1.0, 'kernel_regularizer': 'l1', 'final_activation': 'tanh', 'input_shape': ['?', '?', 1], 'intermediate_results': True, 'kernel_initializer': 'glorot_normal', 'pyramid': {'levels': 5, 'type': 'laplacian', 'xy_max': [2.0, 2.0], 'kernel_size': [5, 5]}, 'inverse_pyramid': {'levels': 5, 'type': 'inverse_laplacian', 'xy_max': [2.0, 2.0], 'kernel_size': [5, 5]}}]\n",
      "2022-02-10 22:30:01,556 INFO model_denoise.py:model_builder:145] building model with multiscale pyramid\n"
     ]
    }
   ],
   "source": [
    "model_denoise, model_normalize, model_denormalize = bfcnn.model_builder(config=model_config)"
   ]
  },
  {
   "cell_type": "code",
   "execution_count": 4,
   "id": "finished-rider",
   "metadata": {},
   "outputs": [
    {
     "data": {
      "text/plain": [
       "array([1., 1., 1., ..., 0., 0., 0.], dtype=float32)"
      ]
     },
     "execution_count": 4,
     "metadata": {},
     "output_type": "execute_result"
    }
   ],
   "source": [
    "get_conv2d_weights(model_denoise)"
   ]
  },
  {
   "cell_type": "code",
   "execution_count": null,
   "id": "experienced-situation",
   "metadata": {},
   "outputs": [],
   "source": []
  }
 ],
 "metadata": {
  "kernelspec": {
   "display_name": "Python 3",
   "language": "python",
   "name": "python3"
  },
  "language_info": {
   "codemirror_mode": {
    "name": "ipython",
    "version": 3
   },
   "file_extension": ".py",
   "mimetype": "text/x-python",
   "name": "python",
   "nbconvert_exporter": "python",
   "pygments_lexer": "ipython3",
   "version": "3.6.15"
  }
 },
 "nbformat": 4,
 "nbformat_minor": 5
}
