{
 "cells": [
  {
   "cell_type": "code",
   "execution_count": null,
   "id": "posted-electric",
   "metadata": {},
   "outputs": [],
   "source": [
    "import os\n",
    "import sys\n",
    "import pathlib\n",
    "import numpy as np\n",
    "import pandas as pd\n",
    "import tensorflow as tf\n",
    "import matplotlib.pyplot as plt\n",
    "from IPython.display import display\n",
    "\n",
    "sys.path.append(os.getcwd() + \"/../\")\n",
    "\n",
    "import bfcnn"
   ]
  },
  {
   "cell_type": "code",
   "execution_count": null,
   "id": "following-prague",
   "metadata": {
    "pycharm": {
     "name": "#%%\n"
    }
   },
   "outputs": [],
   "source": [
    "# setup environment\n",
    "os.environ[\"TF_CPP_MIN_LOG_LEVEL\"] = \"3\"\n",
    "tf.compat.v1.enable_eager_execution()\n",
    "tf.compat.v1.logging.set_verbosity(tf.compat.v1.logging.ERROR)"
   ]
  },
  {
   "cell_type": "code",
   "execution_count": null,
   "id": "radical-guard",
   "metadata": {
    "pycharm": {
     "name": "#%%\n"
    }
   },
   "outputs": [],
   "source": [
    "# base directory for test images\n",
    "IMAGES_TEST_DIR = \\\n",
    "    pathlib.Path(os.path.abspath(\"\")).parent.resolve() / \"images\" / \"test\"\n",
    "\n",
    "# directory of kitti test images\n",
    "KITTI_DIR = \\\n",
    "    IMAGES_TEST_DIR / \"kitti\"\n",
    "\n",
    "# all the kitti test images\n",
    "KITTI_IMAGES = \\\n",
    "    [img for img in (KITTI_DIR / \"files\").glob(\"*.png\")]\n"
   ]
  },
  {
   "cell_type": "code",
   "execution_count": null,
   "id": "forty-shell",
   "metadata": {
    "pycharm": {
     "name": "#%%\n"
    },
    "scrolled": false
   },
   "outputs": [],
   "source": [
    "SHOW_IMAGES = True\n",
    "NO_CHANNELS = 3\n",
    "FIG_SIZE = (18, 6)\n",
    "CROP_SIZE = (256, 256)\n",
    "VISUALIZE_FIG_SIZE = (20,12)\n",
    "NOISE_STD = [1, 5, 10, 20, 30, 40, 50, 60, 70, 80]\n",
    "RESOLUTIONS= [(128, 384), (256,768)]\n",
    "MODEL = \"resnet_color_laplacian_3x5_non_shared_bn_16x3x3_128x128_residual\"\n",
    "KITTI_IMAGES_SAMPLE = KITTI_IMAGES\n",
    "\n",
    "model = bfcnn.load_model(MODEL)\n",
    "img_path = KITTI_IMAGES_SAMPLE[2]\n",
    "resolution = (256, 768)\n",
    "model_name = MODEL\n",
    "\n",
    "df = \\\n",
    "    pd.DataFrame(\n",
    "        columns=[\n",
    "            \"mae\",\n",
    "            \"mse\",\n",
    "            \"noise_std\",\n",
    "        ])\n",
    "\n",
    "\n",
    "for index, noise_std in enumerate(NOISE_STD):\n",
    "    img_path = KITTI_IMAGES_SAMPLE[index % len(KITTI_IMAGES_SAMPLE)]\n",
    "    img = \\\n",
    "        tf.keras.preprocessing.image.load_img(\n",
    "            path=img_path,\n",
    "            color_mode=\"rgb\",\n",
    "            target_size=resolution,\n",
    "            interpolation=\"bilinear\")\n",
    "    img_original = \\\n",
    "        tf.keras.preprocessing.image.img_to_array(\n",
    "            img=img)\n",
    "    img_original = tf.expand_dims(img_original, axis=0)\n",
    "    img_original = tf.cast(img_original, dtype=tf.uint8)\n",
    "    img_original = tf.image.random_crop(\n",
    "            value=img_original,\n",
    "            size=(1, CROP_SIZE[0], CROP_SIZE[1], NO_CHANNELS)\n",
    "        )\n",
    "    img_noisy = \\\n",
    "        tf.cast(img_original, dtype=tf.float32) + \\\n",
    "        tf.random.truncated_normal(\n",
    "            mean=0,\n",
    "            stddev=noise_std,\n",
    "            shape=img_original.shape)\n",
    "    img_noisy = tf.clip_by_value(img_noisy, clip_value_min=0, clip_value_max=255)\n",
    "    img_noisy = tf.round(img_noisy)\n",
    "    img_noisy = tf.cast(img_noisy, dtype=tf.uint8)\n",
    "    img_denoised = model(img_noisy)\n",
    "    # ---\n",
    "    img_noisy_np = img_noisy.numpy()\n",
    "    img_original_np = img_original.numpy()\n",
    "    img_denoised_np = img_denoised.numpy()\n",
    "    # --- calculate mae, mse\n",
    "    mae = \\\n",
    "        np.mean\\\n",
    "            (np.abs(img_original_np.astype(\"float\") - img_denoised_np.astype(\"float\")),\n",
    "             axis=None)\n",
    "    mse = \\\n",
    "        np.mean\\\n",
    "            (np.square(img_original_np.astype(\"float\") - img_denoised_np.astype(\"float\")),\n",
    "             axis=None)\n",
    "    # --- append df\n",
    "\n",
    "    df = \\\n",
    "        pd.concat([\n",
    "            df,\n",
    "            pd.DataFrame({\n",
    "                \"mae\": f\"{mae:0.2f}\",\n",
    "                \"mse\": f\"{mse:0.2f}\",\n",
    "                \"noise_std\": f\"{noise_std}\"\n",
    "            }, index=[0])],\n",
    "        ignore_index=True)\n",
    "\n",
    "    # --- visualize or not\n",
    "    if SHOW_IMAGES:\n",
    "        norm = plt.Normalize(0, 255)\n",
    "        fig, axes = plt.subplots(nrows=1, ncols=3, figsize=FIG_SIZE)\n",
    "        im0 = axes[0].imshow(img_original_np[0,:,:,:], norm=norm)\n",
    "        im1 = axes[1].imshow(img_noisy_np[0,:,:,:], norm=norm)\n",
    "        im2 = axes[2].imshow(img_denoised_np[0,:,:,:], norm=norm)\n",
    "        axes[0].set_title(f\"original\")\n",
    "        axes[0].axis(\"off\")\n",
    "        axes[1].set_title(f\"noisy\")\n",
    "        axes[1].axis(\"off\")\n",
    "        axes[2].set_title(f\"denoised\")\n",
    "        axes[2].axis(\"off\")\n",
    "        plt.tight_layout()\n",
    "        plt.show()\n",
    "        print(f\"noise_std: {noise_std:0.2f}, mae: {mae:0.2f}\")"
   ]
  },
  {
   "cell_type": "code",
   "execution_count": null,
   "id": "middle-contamination",
   "metadata": {
    "pycharm": {
     "name": "#%%\n"
    }
   },
   "outputs": [],
   "source": [
    "display(df)\n"
   ]
  }
 ],
 "metadata": {
  "kernelspec": {
   "display_name": "Python 3",
   "language": "python",
   "name": "python3"
  },
  "language_info": {
   "codemirror_mode": {
    "name": "ipython",
    "version": 3
   },
   "file_extension": ".py",
   "mimetype": "text/x-python",
   "name": "python",
   "nbconvert_exporter": "python",
   "pygments_lexer": "ipython3",
   "version": "3.8.10"
  }
 },
 "nbformat": 4,
 "nbformat_minor": 5
}
